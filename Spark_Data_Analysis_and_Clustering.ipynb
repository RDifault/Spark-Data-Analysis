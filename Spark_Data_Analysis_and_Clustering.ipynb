{
  "nbformat": 4,
  "nbformat_minor": 0,
  "metadata": {
    "colab": {
      "provenance": [],
      "authorship_tag": "ABX9TyME/IU5R6mGDLNHm2dV1nk7",
      "include_colab_link": true
    },
    "kernelspec": {
      "name": "python3",
      "display_name": "Python 3"
    },
    "language_info": {
      "name": "python"
    }
  },
  "cells": [
    {
      "cell_type": "markdown",
      "metadata": {
        "id": "view-in-github",
        "colab_type": "text"
      },
      "source": [
        "<a href=\"https://colab.research.google.com/github/RDifault/Spark-Data-Analysis/blob/main/Spark_Data_Analysis_and_Clustering.ipynb\" target=\"_parent\"><img src=\"https://colab.research.google.com/assets/colab-badge.svg\" alt=\"Open In Colab\"/></a>"
      ]
    },
    {
      "cell_type": "code",
      "execution_count": null,
      "metadata": {
        "id": "mf6plRC_KGyv"
      },
      "outputs": [],
      "source": [
        "# !apt-get install openjdk-8-jdk-headless -qq > /dev/null\n",
        "# !wget -q https://downloads.apache.org/spark/spark-3.0.3/spark-3.0.3-bin-hadoop2.7.tgz\n",
        "# !tar -xvf spark-3.0.3-bin-hadoop2.7.tgz\n",
        "# !pip install -q findspark\n",
        "# import os\n",
        "# os.environ[\"JAVA_HOME\"] = \"/usr/lib/jvm/java-8-openjdk-amd64\"\n",
        "# os.environ[\"SPARK_HOME\"] = \"/content/spark-3.0.3-bin-hadoop2.7\"\n",
        "# import findspark\n",
        "# findspark.init()"
      ]
    },
    {
      "cell_type": "code",
      "source": [
        "from pyspark.sql import SparkSession\n",
        "import matplotlib.pyplot as plt\n",
        "\n",
        "session = SparkSession.builder.getOrCreate()"
      ],
      "metadata": {
        "id": "b68r_Qm9KSYf"
      },
      "execution_count": null,
      "outputs": []
    },
    {
      "cell_type": "markdown",
      "source": [
        "#Wardlakestone Police Station"
      ],
      "metadata": {
        "id": "DDkUw7C5KYnN"
      }
    },
    {
      "cell_type": "markdown",
      "source": [
        "##1.\tLoad Data from CSV to Spark"
      ],
      "metadata": {
        "id": "Rw3diEYHKeIr"
      }
    },
    {
      "cell_type": "code",
      "source": [
        "MsPolice = session.read.csv(\"MsPolice.csv\", header=True, inferSchema=True)\n",
        "MsCaseType = session.read.csv(\"MsCaseType.csv\", header=True, inferSchema=True)\n",
        "CaseDetail = session.read.csv(\"CaseDetail.csv\", header=True, inferSchema=True)\n",
        "CaseHeader = session.read.csv(\"CaseHeader.csv\", header=True, inferSchema=True)\n",
        "MsPoliceOffice = session.read.csv(\"MsPoliceOffice.csv\", header=True, inferSchema=True)\n",
        "MsVictim = session.read.csv(\"MsVictim.csv\", header=True, inferSchema=True)"
      ],
      "metadata": {
        "id": "Yn7AVV9UKSzM"
      },
      "execution_count": null,
      "outputs": []
    },
    {
      "cell_type": "code",
      "source": [
        "MsPolice.registerTempTable(\"MsPolice\")\n",
        "MsCaseType.registerTempTable(\"MsCaseType\")\n",
        "CaseDetail.registerTempTable(\"CaseDetail\")\n",
        "CaseHeader.registerTempTable(\"CaseHeader\")\n",
        "MsPoliceOffice.registerTempTable(\"MsPoliceOffice\")\n",
        "MsVictim.registerTempTable(\"MsVictim\")"
      ],
      "metadata": {
        "id": "af9cF1pDLA2V"
      },
      "execution_count": null,
      "outputs": []
    },
    {
      "cell_type": "code",
      "source": [
        "test = session.sql(\"SELECT * FROM MsVictim\")\n",
        "test.show()"
      ],
      "metadata": {
        "colab": {
          "base_uri": "https://localhost:8080/"
        },
        "id": "2dxwca3oLeif",
        "outputId": "c396ca53-1323-4761-b938-8fee45ed8eac"
      },
      "execution_count": null,
      "outputs": [
        {
          "output_type": "stream",
          "name": "stdout",
          "text": [
            "+--------+------+-------------------+------------+--------------------+\n",
            "|VictimID|CaseID|         VictimName|VictimGender|       VictimAddress|\n",
            "+--------+------+-------------------+------------+--------------------+\n",
            "|       1|   498|        Jemmy Plail|        Male|      29 Forest Road|\n",
            "|       2|    61|    Lucilia Drinnan|      Female|  55015 Forest Point|\n",
            "|       3|    16|        Merry Robak|      Female|    02 Rusk Junction|\n",
            "|       4|   344|    Ronni Kennerley|      Female|       1 Blaine Lane|\n",
            "|       5|   220|      Faydra Cassam|        Male|50924 Dixon Crossing|\n",
            "|       6|   342|       Leoine Velte|        Male| 0748 Mallory Circle|\n",
            "|       7|   377|   Marlena MacQuist|        Male| 7 Prairieview Trail|\n",
            "|       8|   133|      Kathe Placide|        Male|   81263 Esch Circle|\n",
            "|       9|   152|    Paola Melbourne|      Female|  454 Arrowood Place|\n",
            "|      10|   182|      Johny Hodgins|      Female|    637 Bultman Park|\n",
            "|      11|   417|      Mela Di Biagi|      Female|  55633 Ramsey Point|\n",
            "|      12|   346|      Wright Croser|      Female|600 Lakewood Parkway|\n",
            "|      13|   249|       Stefa Laible|        Male|   3484 Corscot Road|\n",
            "|      14|    81|       Sean Crowthe|        Male|0707 Annamark Jun...|\n",
            "|      15|     8|       Nissy Eckley|      Female|    98 Crowley Plaza|\n",
            "|      16|   184|   Rawley Whitefoot|        Male|46249 Annamark Trail|\n",
            "|      17|   120|   Ophelia Laughton|      Female|      8 Warrior Lane|\n",
            "|      18|   189|      Garvey Pedden|      Female|  5 Division Terrace|\n",
            "|      19|   338|Holly-anne Denerley|      Female|    64 Judy Junction|\n",
            "|      20|   448|    Noami Wycherley|      Female| 07222 Pleasure Park|\n",
            "+--------+------+-------------------+------------+--------------------+\n",
            "only showing top 20 rows\n",
            "\n"
          ]
        }
      ]
    },
    {
      "cell_type": "markdown",
      "source": [
        "##2.\tQuery Analysis and Visualization"
      ],
      "metadata": {
        "id": "U9coXITWLqgf"
      }
    },
    {
      "cell_type": "markdown",
      "source": [
        "a.\tShow the top 5 police office regions that have the most ongoing cases using a bar plot."
      ],
      "metadata": {
        "id": "JEH34uGdLtou"
      }
    },
    {
      "cell_type": "code",
      "source": [
        "top5 = session.sql(\"\"\"\n",
        "  SELECT\n",
        "  mpo.PoliceOfficeRegion,\n",
        "  COUNT(ch.CaseID) AS `Total Case`\n",
        "  FROM MsPoliceOffice mpo JOIN MsPolice mp ON mpo.PoliceOfficeID = mp.PoliceOfficeID\n",
        "  JOIN CaseDetail cd ON mp.PoliceID = cd.PoliceID\n",
        "  JOIN CaseHeader ch ON cd.CaseID = ch.CaseID\n",
        "  WHERE ch.CaseStatus = 'On Going'\n",
        "  GROUP BY mpo.PoliceOfficeRegion\n",
        "  ORDER BY `Total Case` desc\n",
        "  LIMIT 5\n",
        "\"\"\")"
      ],
      "metadata": {
        "id": "bLoGyL8cLlqI"
      },
      "execution_count": null,
      "outputs": []
    },
    {
      "cell_type": "code",
      "source": [
        "top5.show()"
      ],
      "metadata": {
        "colab": {
          "base_uri": "https://localhost:8080/"
        },
        "id": "VTFr_6JPOMRT",
        "outputId": "9526b225-9834-496a-ac33-2e034a9f84bb"
      },
      "execution_count": null,
      "outputs": [
        {
          "output_type": "stream",
          "name": "stdout",
          "text": [
            "+------------------+----------+\n",
            "|PoliceOfficeRegion|Total Case|\n",
            "+------------------+----------+\n",
            "|        California|        30|\n",
            "|           Florida|        28|\n",
            "|           Arizona|        28|\n",
            "|          Nebraska|        28|\n",
            "|            Oregon|        23|\n",
            "+------------------+----------+\n",
            "\n"
          ]
        }
      ]
    },
    {
      "cell_type": "code",
      "source": [
        "top5 = top5.toPandas()"
      ],
      "metadata": {
        "id": "LA76A0o4Ovds"
      },
      "execution_count": null,
      "outputs": []
    },
    {
      "cell_type": "code",
      "source": [
        "plt.figure(figsize=(10, 5))\n",
        "plt.bar(top5[\"PoliceOfficeRegion\"], top5[\"Total Case\"])\n",
        "plt.title(\"Top 5 Police Office Region with Most On Going Cases\")\n",
        "plt.xlabel(\"Police Office Region\")\n",
        "plt.ylabel(\"Number of Case\")\n",
        "plt.show()"
      ],
      "metadata": {
        "colab": {
          "base_uri": "https://localhost:8080/",
          "height": 350
        },
        "id": "n7acGEl_OaTn",
        "outputId": "0845f059-5b83-4dc4-b992-1caa07162f3a"
      },
      "execution_count": null,
      "outputs": [
        {
          "output_type": "display_data",
          "data": {
            "image/png": "[encoded data removed]",
            "text/plain": [
              "<Figure size 720x360 with 1 Axes>"
            ]
          },
          "metadata": {
            "needs_background": "light"
          }
        }
      ]
    },
    {
      "cell_type": "markdown",
      "source": [
        "b.\tShow the total number of victims for each year where the police office region is in Nevada, Washington, Oregon, and California using a line plot."
      ],
      "metadata": {
        "id": "QTiezaJwLzRK"
      }
    },
    {
      "cell_type": "code",
      "source": [
        "victim = session.sql(\"\"\"\n",
        "  SELECT\n",
        "  YEAR(ch.CaseDate) AS `Year`,\n",
        "  COUNT(mv.VictimID) AS `Total Victim`\n",
        "  FROM MsPoliceOffice mpo JOIN MsPolice mp ON mpo.PoliceOfficeID = mp.PoliceOfficeID\n",
        "  JOIN CaseDetail cd ON mp.PoliceID = cd.PoliceID\n",
        "  JOIN CaseHeader ch ON cd.CaseID = ch.CaseID\n",
        "  JOIN MsVictim mv ON ch.CaseID = mv.CaseID\n",
        "  WHERE mpo.PoliceOfficeRegion IN ('Nevada', 'Washington', 'Oregon', 'California')\n",
        "  GROUP BY `Year`\n",
        "\"\"\")"
      ],
      "metadata": {
        "id": "YmY7vt2iL1kB"
      },
      "execution_count": null,
      "outputs": []
    },
    {
      "cell_type": "code",
      "source": [
        "victim.show()"
      ],
      "metadata": {
        "colab": {
          "base_uri": "https://localhost:8080/"
        },
        "id": "k2FbHg_2bBtU",
        "outputId": "6b6295c3-f2b2-44df-b65e-7cb172e76933"
      },
      "execution_count": null,
      "outputs": [
        {
          "output_type": "stream",
          "name": "stdout",
          "text": [
            "+----+------------+\n",
            "|Year|Total Victim|\n",
            "+----+------------+\n",
            "|2018|          56|\n",
            "|2019|          41|\n",
            "|2020|          74|\n",
            "|2021|          61|\n",
            "+----+------------+\n",
            "\n"
          ]
        }
      ]
    },
    {
      "cell_type": "code",
      "source": [
        "victim = victim.toPandas()"
      ],
      "metadata": {
        "id": "JiRuzVuybuQu"
      },
      "execution_count": null,
      "outputs": []
    },
    {
      "cell_type": "code",
      "source": [
        "plt.figure(figsize=(10, 5))\n",
        "plt.plot(victim[\"Year\"], victim[\"Total Victim\"])\n",
        "plt.title(\"Number of Victim Each Year\")\n",
        "plt.xlabel(\"Year\")\n",
        "plt.ylabel(\"Number of Victim\")\n",
        "plt.show()"
      ],
      "metadata": {
        "colab": {
          "base_uri": "https://localhost:8080/",
          "height": 350
        },
        "id": "D0d9LdaMbw1d",
        "outputId": "fd682516-970f-4cd6-e13a-53b8cefdbd69"
      },
      "execution_count": null,
      "outputs": [
        {
          "output_type": "display_data",
          "data": {
            "image/png": "[encoded data removed]",
            "text/plain": [
              "<Figure size 720x360 with 1 Axes>"
            ]
          },
          "metadata": {
            "needs_background": "light"
          }
        }
      ]
    },
    {
      "cell_type": "markdown",
      "source": [
        "c.\tShow the percentage of the number of cases for each type of crime where the total number of victims is more than 50 using a pie plot."
      ],
      "metadata": {
        "id": "NEUft9XbL12N"
      }
    },
    {
      "cell_type": "code",
      "source": [
        "crime = session.sql(\"\"\"\n",
        "  SELECT COUNT(mv.VictimID) As `Total Victim`,\n",
        "  CASE\n",
        "  WHEN mct.CaseTypeName IN ('Robbery', 'Burglary', 'Drug') THEN 'Violation'\n",
        "  WHEN mct.CaseTypeName IN ('Fraud and Scam', 'Family Violence', 'White-Colar Crime') THEN 'Misdemeanor'\n",
        "  WHEN mct.CaseTypeName IN ('Murder', 'Cybercrime', 'Terrorism', 'Foreign Counterintelligence') THEN 'Felonies'\n",
        "  END AS `CrimeCategory`\n",
        "  FROM CaseHeader ch JOIN MsCaseType mct ON ch.CaseTypeID = mct.CaseTypeID\n",
        "  JOIN MsVictim mv ON ch.CaseID = mv.CaseID\n",
        "  GROUP BY `CrimeCategory`\n",
        "\"\"\")"
      ],
      "metadata": {
        "id": "C3MmstbnL45y"
      },
      "execution_count": null,
      "outputs": []
    },
    {
      "cell_type": "code",
      "source": [
        "crime.show()"
      ],
      "metadata": {
        "colab": {
          "base_uri": "https://localhost:8080/"
        },
        "id": "iTLXBuzmfpGR",
        "outputId": "3226802b-3209-436b-d6b3-0f4ac0aff08f"
      },
      "execution_count": null,
      "outputs": [
        {
          "output_type": "stream",
          "name": "stdout",
          "text": [
            "+------------+-------------+\n",
            "|Total Victim|CrimeCategory|\n",
            "+------------+-------------+\n",
            "|         133|    Violation|\n",
            "|         226|     Felonies|\n",
            "|         141|  Misdemeanor|\n",
            "+------------+-------------+\n",
            "\n"
          ]
        }
      ]
    },
    {
      "cell_type": "code",
      "source": [
        "crime = crime.toPandas()"
      ],
      "metadata": {
        "id": "rNRvwOc5gXtG"
      },
      "execution_count": null,
      "outputs": []
    },
    {
      "cell_type": "code",
      "source": [
        "plt.pie(crime[\"Total Victim\"], labels=crime[\"CrimeCategory\"], autopct=\"%.2f%%\")\n",
        "plt.title(\"Crime Type Percentage\")\n",
        "plt.show()"
      ],
      "metadata": {
        "colab": {
          "base_uri": "https://localhost:8080/",
          "height": 264
        },
        "id": "hay0oGebgb2y",
        "outputId": "4f53ffbe-8cb5-4957-b9ef-6621a665b0ca"
      },
      "execution_count": null,
      "outputs": [
        {
          "output_type": "display_data",
          "data": {
            "image/png": "[encoded data removed]",
            "text/plain": [
              "<Figure size 432x288 with 1 Axes>"
            ]
          },
          "metadata": {}
        }
      ]
    },
    {
      "cell_type": "markdown",
      "source": [
        "#FitFut"
      ],
      "metadata": {
        "id": "C9AHW4QiPCQb"
      }
    },
    {
      "cell_type": "markdown",
      "source": [
        "##1.\tLoad Data"
      ],
      "metadata": {
        "id": "aIn06Ya_PHN5"
      }
    },
    {
      "cell_type": "code",
      "source": [
        "dataset = session.read.csv(\"Clustering.csv\", header=True, inferSchema=True)\n",
        "dataset.count()"
      ],
      "metadata": {
        "colab": {
          "base_uri": "https://localhost:8080/"
        },
        "id": "4LASY7G4PKX0",
        "outputId": "22c8e171-fa26-4f0b-c34e-7734e8f9dd7f"
      },
      "execution_count": null,
      "outputs": [
        {
          "output_type": "execute_result",
          "data": {
            "text/plain": [
              "10000"
            ]
          },
          "metadata": {},
          "execution_count": 266
        }
      ]
    },
    {
      "cell_type": "markdown",
      "source": [
        "##2.\tSelect Features"
      ],
      "metadata": {
        "id": "OWj94mlzPKtt"
      }
    },
    {
      "cell_type": "code",
      "source": [
        "dataset = dataset.select(\"sugar_level\", \"fat\")"
      ],
      "metadata": {
        "id": "rowukGpGPNKd"
      },
      "execution_count": null,
      "outputs": []
    },
    {
      "cell_type": "markdown",
      "source": [
        "##3.\tData Preprocessing"
      ],
      "metadata": {
        "id": "UPzo-jnXPNZx"
      }
    },
    {
      "cell_type": "code",
      "source": [
        "#Hapus data null\n",
        "dataset = dataset.na.drop()\n",
        "dataset.count()"
      ],
      "metadata": {
        "colab": {
          "base_uri": "https://localhost:8080/"
        },
        "id": "I7Zk-JMpPPyD",
        "outputId": "9c48773f-1c34-4790-98bb-1de3b63d82a7"
      },
      "execution_count": null,
      "outputs": [
        {
          "output_type": "execute_result",
          "data": {
            "text/plain": [
              "9790"
            ]
          },
          "metadata": {},
          "execution_count": 268
        }
      ]
    },
    {
      "cell_type": "code",
      "source": [
        "from pyspark.sql.functions import split, when"
      ],
      "metadata": {
        "id": "eksQBhwnQTHJ"
      },
      "execution_count": null,
      "outputs": []
    },
    {
      "cell_type": "code",
      "source": [
        "#Menghilangkan Satuan\n",
        "dataset = dataset.withColumn(\"sugar_level\", split(dataset[\"sugar_level\"], ' ')[0])\n",
        "# dataset = dataset.withColumn(\"calories\", split(dataset[\"calories\"], ' ')[0])\n",
        "# dataset = dataset.withColumn(\"weight\", split(dataset[\"weight\"], ' ')[0])\n",
        "dataset = dataset.withColumn(\"fat\", split(dataset[\"fat\"], ' ')[0])"
      ],
      "metadata": {
        "id": "vj80M--wQbIO"
      },
      "execution_count": null,
      "outputs": []
    },
    {
      "cell_type": "code",
      "source": [
        "dataset.show()"
      ],
      "metadata": {
        "colab": {
          "base_uri": "https://localhost:8080/"
        },
        "id": "dG8SrSkWQxvs",
        "outputId": "43fd5936-31d3-4a27-e197-06601c692a95"
      },
      "execution_count": null,
      "outputs": [
        {
          "output_type": "stream",
          "name": "stdout",
          "text": [
            "+------------------+---+\n",
            "|       sugar_level|fat|\n",
            "+------------------+---+\n",
            "|            115.12| 40|\n",
            "|62.829999999999984| 39|\n",
            "|56.370000000000005| 25|\n",
            "|25.870000000000005|  7|\n",
            "| 69.16999999999999| 26|\n",
            "|123.78999999999999| 25|\n",
            "|            122.22| 13|\n",
            "|            123.24| 31|\n",
            "|             66.44| 29|\n",
            "| 84.80999999999999| 16|\n",
            "|105.24000000000001| 27|\n",
            "| 85.02000000000001| 45|\n",
            "|             93.06| 16|\n",
            "|             80.13| 15|\n",
            "|            131.64| 23|\n",
            "|27.789999999999992| 14|\n",
            "|36.209999999999994| 23|\n",
            "|            101.02| 18|\n",
            "| 95.46000000000001| 25|\n",
            "|38.859999999999985| 19|\n",
            "+------------------+---+\n",
            "only showing top 20 rows\n",
            "\n"
          ]
        }
      ]
    },
    {
      "cell_type": "markdown",
      "source": [
        "##4.\tTransform Data"
      ],
      "metadata": {
        "id": "Ukfe9oZZPQDB"
      }
    },
    {
      "cell_type": "code",
      "source": [
        "#Mengubah food_color menjadi numerik\n",
        "# dataset.toPandas()[\"food_color\"].unique()"
      ],
      "metadata": {
        "id": "ap_U9OxrSv-L"
      },
      "execution_count": null,
      "outputs": []
    },
    {
      "cell_type": "code",
      "source": [
        "# dataset = dataset.withColumn(\"food_color\", when(dataset[\"food_color\"] == \"Sunset Yellow\", 0).\n",
        "#                                                   when(dataset[\"food_color\"] == \"Rose\", 1).\n",
        "#                                                   when(dataset[\"food_color\"] == \"Navy Blue\", 2).\n",
        "#                                                   when(dataset[\"food_color\"] == \"Sunset Red\", 3).\n",
        "#                                                   when(dataset[\"food_color\"] == \"Lemon Yellow\", 4).\n",
        "#                                                   when(dataset[\"food_color\"] == \"Purple\", 5).\n",
        "#                                                   when(dataset[\"food_color\"] == \"Coffee\", 6).\n",
        "#                                                   when(dataset[\"food_color\"] == \"Green\", 7).\n",
        "#                                                   when(dataset[\"food_color\"] == \"Grass Green\", 8).\n",
        "#                                                   when(dataset[\"food_color\"] == \"Black\", 9))"
      ],
      "metadata": {
        "id": "RoT2YyQATRUA"
      },
      "execution_count": null,
      "outputs": []
    },
    {
      "cell_type": "code",
      "source": [
        "#casting Data Type\n",
        "dataset = dataset.withColumn(\"sugar_level\", dataset[\"sugar_level\"].cast(\"float\"))\n",
        "# dataset = dataset.withColumn(\"calories\", dataset[\"calories\"].cast(\"integer\"))\n",
        "# dataset = dataset.withColumn(\"weight\", dataset[\"weight\"].cast(\"float\"))\n",
        "dataset = dataset.withColumn(\"fat\", dataset[\"fat\"].cast(\"float\"))"
      ],
      "metadata": {
        "id": "t9-Ykak5PR7z"
      },
      "execution_count": null,
      "outputs": []
    },
    {
      "cell_type": "code",
      "source": [
        "dataset.show()"
      ],
      "metadata": {
        "colab": {
          "base_uri": "https://localhost:8080/"
        },
        "id": "P4t8O-fAUEvr",
        "outputId": "04efc919-1fe0-4cf5-e151-7607b85bcada"
      },
      "execution_count": null,
      "outputs": [
        {
          "output_type": "stream",
          "name": "stdout",
          "text": [
            "+-----------+----+\n",
            "|sugar_level| fat|\n",
            "+-----------+----+\n",
            "|     115.12|40.0|\n",
            "|      62.83|39.0|\n",
            "|      56.37|25.0|\n",
            "|      25.87| 7.0|\n",
            "|      69.17|26.0|\n",
            "|     123.79|25.0|\n",
            "|     122.22|13.0|\n",
            "|     123.24|31.0|\n",
            "|      66.44|29.0|\n",
            "|      84.81|16.0|\n",
            "|     105.24|27.0|\n",
            "|      85.02|45.0|\n",
            "|      93.06|16.0|\n",
            "|      80.13|15.0|\n",
            "|     131.64|23.0|\n",
            "|      27.79|14.0|\n",
            "|      36.21|23.0|\n",
            "|     101.02|18.0|\n",
            "|      95.46|25.0|\n",
            "|      38.86|19.0|\n",
            "+-----------+----+\n",
            "only showing top 20 rows\n",
            "\n"
          ]
        }
      ]
    },
    {
      "cell_type": "markdown",
      "source": [
        "##5.\tNormalization"
      ],
      "metadata": {
        "id": "byTD0phFPSNR"
      }
    },
    {
      "cell_type": "code",
      "source": [
        "from pyspark.ml.feature import VectorAssembler, StandardScaler\n",
        "\n",
        "col = dataset.columns\n",
        "dataset = VectorAssembler(inputCols=col, outputCol=\"feature\").transform(dataset)"
      ],
      "metadata": {
        "id": "5UIXgkXaPVDG"
      },
      "execution_count": null,
      "outputs": []
    },
    {
      "cell_type": "code",
      "source": [
        "scaler = StandardScaler(inputCol=\"feature\", outputCol=\"features\")\n",
        "dataset = scaler.fit(dataset).transform(dataset)"
      ],
      "metadata": {
        "id": "PJ4vFylVRnYA"
      },
      "execution_count": null,
      "outputs": []
    },
    {
      "cell_type": "code",
      "source": [
        "dataset.show(truncate=False)"
      ],
      "metadata": {
        "colab": {
          "base_uri": "https://localhost:8080/"
        },
        "id": "zVHQwwLQRqU5",
        "outputId": "a540e608-4e87-446a-d95a-cab1ed10c626"
      },
      "execution_count": null,
      "outputs": [
        {
          "output_type": "stream",
          "name": "stdout",
          "text": [
            "+-----------+----+-------------------------+---------------------------------------+\n",
            "|sugar_level|fat |feature                  |features                               |\n",
            "+-----------+----+-------------------------+---------------------------------------+\n",
            "|115.12     |40.0|[115.12000274658203,40.0]|[3.0095302194687337,4.043813588606543] |\n",
            "|62.83      |39.0|[62.83000183105469,39.0] |[1.6425363506642991,3.94271824889138]  |\n",
            "|56.37      |25.0|[56.369998931884766,25.0]|[1.4736554135633424,2.5273834928790895]|\n",
            "|25.87      |7.0 |[25.8700008392334,7.0]   |[0.6763077436224785,0.7076673780061451]|\n",
            "|69.17      |26.0|[69.16999816894531,26.0] |[1.8082800104538612,2.6284788325942534]|\n",
            "|123.79     |25.0|[123.79000091552734,25.0]|[3.236186064410105,2.5273834928790895] |\n",
            "|122.22     |13.0|[122.22000122070312,13.0]|[3.1951422717294236,1.3142394162971267]|\n",
            "|123.24     |31.0|[123.23999786376953,31.0]|[3.22180758312472,3.1339555311700713]  |\n",
            "|66.44      |29.0|[66.44000244140625,29.0] |[1.736910965587388,2.931764851739744]  |\n",
            "|84.81      |16.0|[84.80999755859375,16.0] |[2.2171494481938376,1.6175254354426174]|\n",
            "|105.24     |27.0|[105.23999786376953,27.0]|[2.7512417156995164,2.729574172309417] |\n",
            "|85.02      |45.0|[85.0199966430664,45.0]  |[2.222639359379581,4.5492902871823615] |\n",
            "|93.06      |16.0|[93.05999755859375,16.0] |[2.4328254707637225,1.6175254354426174]|\n",
            "|80.13      |15.0|[80.12999725341797,15.0] |[2.094802314685212,1.516430095727454]  |\n",
            "|131.64     |23.0|[131.63999938964844,23.0]|[3.4414050278135115,2.3251928134487625]|\n",
            "|27.79      |14.0|[27.790000915527344,14.0]|[0.7265014381423517,1.4153347560122902]|\n",
            "|36.21      |23.0|[36.209999084472656,23.0]|[0.9466216460361504,2.3251928134487625]|\n",
            "|101.02     |18.0|[101.0199966430664,18.0] |[2.640920130424206,1.8197161148729446] |\n",
            "|95.46      |25.0|[95.45999908447266,25.0] |[2.495567626310779,2.5273834928790895] |\n",
            "|38.86      |19.0|[38.86000061035156,19.0] |[1.0158994386307794,1.920811454588108] |\n",
            "+-----------+----+-------------------------+---------------------------------------+\n",
            "only showing top 20 rows\n",
            "\n"
          ]
        }
      ]
    },
    {
      "cell_type": "markdown",
      "source": [
        "##6.\tGenerate Model"
      ],
      "metadata": {
        "id": "weHm9ukWPVR9"
      }
    },
    {
      "cell_type": "code",
      "source": [
        "from pyspark.ml.clustering import KMeans\n",
        "\n",
        "dataset = dataset.select(\"sugar_level\", \"fat\", \"features\")\n",
        "\n",
        "kmeans = KMeans().setK(2)\n",
        "model = kmeans.fit(dataset)\n",
        "pred = model.transform(dataset)"
      ],
      "metadata": {
        "id": "UqaIQWtSPYCg"
      },
      "execution_count": null,
      "outputs": []
    },
    {
      "cell_type": "markdown",
      "source": [
        "##7.\tVisualization"
      ],
      "metadata": {
        "id": "aKWkIvWpPXZd"
      }
    },
    {
      "cell_type": "code",
      "source": [
        "pred.show()"
      ],
      "metadata": {
        "colab": {
          "base_uri": "https://localhost:8080/"
        },
        "id": "a7Kwf73uPbBP",
        "outputId": "01ac723c-beea-4b9b-88d8-193c2a077166"
      },
      "execution_count": null,
      "outputs": [
        {
          "output_type": "stream",
          "name": "stdout",
          "text": [
            "+-----------+----+--------------------+----------+\n",
            "|sugar_level| fat|            features|prediction|\n",
            "+-----------+----+--------------------+----------+\n",
            "|     115.12|40.0|[3.00953021946873...|         1|\n",
            "|      62.83|39.0|[1.64253635066429...|         1|\n",
            "|      56.37|25.0|[1.47365541356334...|         0|\n",
            "|      25.87| 7.0|[0.67630774362247...|         0|\n",
            "|      69.17|26.0|[1.80828001045386...|         0|\n",
            "|     123.79|25.0|[3.23618606441010...|         1|\n",
            "|     122.22|13.0|[3.19514227172942...|         0|\n",
            "|     123.24|31.0|[3.22180758312472...|         1|\n",
            "|      66.44|29.0|[1.73691096558738...|         0|\n",
            "|      84.81|16.0|[2.21714944819383...|         0|\n",
            "|     105.24|27.0|[2.75124171569951...|         1|\n",
            "|      85.02|45.0|[2.22263935937958...|         1|\n",
            "|      93.06|16.0|[2.43282547076372...|         0|\n",
            "|      80.13|15.0|[2.09480231468521...|         0|\n",
            "|     131.64|23.0|[3.44140502781351...|         1|\n",
            "|      27.79|14.0|[0.72650143814235...|         0|\n",
            "|      36.21|23.0|[0.94662164603615...|         0|\n",
            "|     101.02|18.0|[2.64092013042420...|         0|\n",
            "|      95.46|25.0|[2.49556762631077...|         0|\n",
            "|      38.86|19.0|[1.01589943863077...|         0|\n",
            "+-----------+----+--------------------+----------+\n",
            "only showing top 20 rows\n",
            "\n"
          ]
        }
      ]
    },
    {
      "cell_type": "code",
      "source": [
        "pred = pred.toPandas()\n",
        "plt.scatter(pred[\"sugar_level\"], pred[\"fat\"], c=pred[\"prediction\"])\n",
        "plt.title(\"Healthy Foods according to Sugar Level and Fat\")\n",
        "plt.xlabel(\"Sugar Level\")\n",
        "plt.ylabel(\"Fat\")\n",
        "plt.show()"
      ],
      "metadata": {
        "colab": {
          "base_uri": "https://localhost:8080/",
          "height": 295
        },
        "id": "7m4nOrrnSA8a",
        "outputId": "b26d8b9e-80ee-457b-f3ff-930441cc0878"
      },
      "execution_count": null,
      "outputs": [
        {
          "output_type": "display_data",
          "data": {
            "image/png": "[encoded data removed]",
            "text/plain": [
              "<Figure size 432x288 with 1 Axes>"
            ]
          },
          "metadata": {
            "needs_background": "light"
          }
        }
      ]
    }
  ]
}